{
 "cells": [
  {
   "cell_type": "markdown",
   "metadata": {},
   "source": [
    "# Median of Two Sorted Arrays\n",
    "This is my solution to [Median of Two Sorted Arrays](https://leetcode.com/problems/median-of-two-sorted-arrays/description/)."
   ]
  },
  {
   "cell_type": "markdown",
   "metadata": {},
   "source": [
    "---\n",
    "Given two sorted arrays, I have to find the media, i.e. the number in the middle. However, the run time complexity should be O(log(m+n)). \n",
    "\n",
    "## Brute Force Approach\n",
    "My first reflex would be to implement a brute force solution. In python, I could simply append the two array, resort them and then find the middle element."
   ]
  },
  {
   "cell_type": "code",
   "execution_count": 17,
   "metadata": {},
   "outputs": [],
   "source": [
    "class Solution:\n",
    "    def findMedianSortedArrays(self, nums1, nums2):\n",
    "        \"\"\"\n",
    "        :type nums1: List[int]\n",
    "        :type nums2: List[int]\n",
    "        :rtype: float\n",
    "        \"\"\"\n",
    "        nums = nums1 + nums2\n",
    "        nums.sort()\n",
    "        size = len(nums)\n",
    "        if size % 2 == 0:\n",
    "            return (nums[size//2 - 1] + nums[size//2]) / 2\n",
    "        else:\n",
    "            return nums[size//2]"
   ]
  },
  {
   "cell_type": "code",
   "execution_count": 18,
   "metadata": {},
   "outputs": [
    {
     "name": "stdout",
     "output_type": "stream",
     "text": [
      "4\n",
      "4\n",
      "2.5\n"
     ]
    }
   ],
   "source": [
    "s = Solution()\n",
    "print(s.findMedianSortedArrays([1,2,3], [4,5,6,7]))\n",
    "print(s.findMedianSortedArrays([1,4,7], [2,3,5,6]))\n",
    "print(s.findMedianSortedArrays([1,2], [3,4]))"
   ]
  },
  {
   "cell_type": "markdown",
   "metadata": {},
   "source": [
    "Altough this solution works (and ranks well on LeetCode ¯\\_(ツ)_/¯), it does not satisfies the complexity requirement. Indeed, it requires to sort an array of 'n + m' elements which has complexity O((m+n)log(m+n)). Therefore, another approach should be taken.\n",
    "\n",
    "## Clever Approach\n",
    "The first thing that comes to my mind when it comes to optimize the complexity is that we should use the fact that both input arrays are already sorted for us. \n",
    "\n",
    "We could find the median of both arrays seperatly and then combine those.\n",
    "\n",
    "Also, if one array is empty, all we have to do is simply return the median of the other one."
   ]
  },
  {
   "cell_type": "code",
   "execution_count": 21,
   "metadata": {},
   "outputs": [],
   "source": [
    "class Solution:\n",
    "    \n",
    "    def median_of_sorted_array(self, nums):\n",
    "        size = len(nums)\n",
    "        if size == 0:\n",
    "            return None\n",
    "        if size % 2 == 0:\n",
    "            return (nums[size//2 - 1] + nums[size//2]) / 2\n",
    "        else:\n",
    "            return nums[size//2]\n",
    "        \n",
    "    def findMedianSortedArrays(self, nums1, nums2):\n",
    "        \"\"\"\n",
    "        :type nums1: List[int]\n",
    "        :type nums2: List[int]\n",
    "        :rtype: float\n",
    "        \"\"\"\n",
    "        if not nums1:\n",
    "            return self.median_of_sorted_array(nums2)\n",
    "        if not nums2:\n",
    "            return self.median_of_sorted_array(nums1)\n",
    "        \n",
    "        m1 = self.median_of_sorted_array(nums1)\n",
    "        m2 = self.median_of_sorted_array(nums2) \n",
    "        return (m1+m2)/2"
   ]
  },
  {
   "cell_type": "code",
   "execution_count": 22,
   "metadata": {},
   "outputs": [
    {
     "name": "stdout",
     "output_type": "stream",
     "text": [
      "3.75\n",
      "4.0\n",
      "2.5\n"
     ]
    }
   ],
   "source": [
    "s = Solution()\n",
    "print(s.findMedianSortedArrays([1,2,3], [4,5,6,7]))\n",
    "print(s.findMedianSortedArrays([1,4,7], [2,3,5,6]))\n",
    "print(s.findMedianSortedArrays([1,2], [3,4]))"
   ]
  },
  {
   "cell_type": "code",
   "execution_count": null,
   "metadata": {},
   "outputs": [],
   "source": []
  }
 ],
 "metadata": {
  "kernelspec": {
   "display_name": "Python 3",
   "language": "python",
   "name": "python3"
  },
  "language_info": {
   "codemirror_mode": {
    "name": "ipython",
    "version": 3
   },
   "file_extension": ".py",
   "mimetype": "text/x-python",
   "name": "python",
   "nbconvert_exporter": "python",
   "pygments_lexer": "ipython3",
   "version": "3.6.5"
  }
 },
 "nbformat": 4,
 "nbformat_minor": 2
}
