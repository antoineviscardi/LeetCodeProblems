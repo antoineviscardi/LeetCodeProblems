{
 "cells": [
  {
   "cell_type": "markdown",
   "metadata": {},
   "source": [
    "# 3. Longest Substring Without Repeating Characters\n",
    "My solution to [Longest Substring Without Repeating Characters](https://leetcode.com/problems/longest-substring-without-repeating-characters/description/)."
   ]
  },
  {
   "cell_type": "markdown",
   "metadata": {},
   "source": [
    "## Solution\n",
    "I think an efficient way to solve this problem would be as follows:\n",
    "1. Start with a window of size 1 placed on the first character;\n",
    "2. Check if character on the right is already present in window;\n",
    "3. If no, increase window size to include it. If yes, shift window until it covers unique characters or we reach end of string;\n",
    "4. Repeat step 2 and 3 until end of string is reached; and,\n",
    "5. Return final window size."
   ]
  },
  {
   "cell_type": "code",
   "execution_count": 90,
   "metadata": {},
   "outputs": [],
   "source": [
    "class Solution:\n",
    "    def lengthOfLongestSubstring(self, s):\n",
    "        \"\"\"\n",
    "        :type s: str\n",
    "        :rtype: int\n",
    "        \"\"\"\n",
    "        if len(s) == 0:\n",
    "            return 0\n",
    "        \n",
    "        size = 1\n",
    "        offset = 0\n",
    "        \n",
    "        while offset+size <= len(s):\n",
    "            sub_s = s[offset:offset+size]\n",
    "            if self.is_duplicate(sub_s):\n",
    "                offset += 1\n",
    "            else:\n",
    "                size += 1\n",
    "                \n",
    "        return size - 1;\n",
    "            \n",
    "    def is_duplicate(self, s):\n",
    "        for i in range(len(s)):\n",
    "            if s[i] in s[i+1:]:\n",
    "                return True\n",
    "        return False"
   ]
  },
  {
   "cell_type": "markdown",
   "metadata": {},
   "source": [
    "## Testcases"
   ]
  },
  {
   "cell_type": "code",
   "execution_count": 91,
   "metadata": {
    "scrolled": true
   },
   "outputs": [
    {
     "name": "stdout",
     "output_type": "stream",
     "text": [
      "0\n",
      "3\n",
      "1\n",
      "3\n",
      "2\n",
      "4\n",
      "7\n"
     ]
    }
   ],
   "source": [
    "s = Solution()\n",
    "print(s.lengthOfLongestSubstring(''))         # 0\n",
    "print(s.lengthOfLongestSubstring('abcabcbb')) # 3\n",
    "print(s.lengthOfLongestSubstring('bbbbb'))    # 1\n",
    "print(s.lengthOfLongestSubstring('pwwkew'))   # 3\n",
    "print(s.lengthOfLongestSubstring('abba'))     # 2\n",
    "print(s.lengthOfLongestSubstring('uqinntq'))  # 4\n",
    "print(s.lengthOfLongestSubstring('yfsrsrpzuya')) # 7"
   ]
  },
  {
   "cell_type": "code",
   "execution_count": 51,
   "metadata": {},
   "outputs": [],
   "source": [
    "x = 2"
   ]
  }
 ],
 "metadata": {
  "kernelspec": {
   "display_name": "Python 3",
   "language": "python",
   "name": "python3"
  },
  "language_info": {
   "codemirror_mode": {
    "name": "ipython",
    "version": 3
   },
   "file_extension": ".py",
   "mimetype": "text/x-python",
   "name": "python",
   "nbconvert_exporter": "python",
   "pygments_lexer": "ipython3",
   "version": "3.6.5"
  }
 },
 "nbformat": 4,
 "nbformat_minor": 2
}
