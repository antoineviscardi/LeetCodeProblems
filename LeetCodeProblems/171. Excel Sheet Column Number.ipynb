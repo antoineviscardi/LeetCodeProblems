{
 "cells": [
  {
   "cell_type": "markdown",
   "metadata": {},
   "source": [
    "# 171. Excel Sheet Column Number"
   ]
  },
  {
   "cell_type": "markdown",
   "metadata": {},
   "source": [
    "My solution to [Excel Sheet Column Number\n",
    "](https://leetcode.com/problems/excel-sheet-column-number/)."
   ]
  },
  {
   "cell_type": "markdown",
   "metadata": {},
   "source": [
    "Key points:\n",
    "* We are given a Excel style column name (A, B, C, ..., AA, BB, ...)\n",
    "* We should return the integer representation of that column name"
   ]
  },
  {
   "cell_type": "markdown",
   "metadata": {},
   "source": [
    "You can simply add the values of each letters multiplied by 26 raised to the power of the position of the letter."
   ]
  },
  {
   "cell_type": "code",
   "execution_count": 61,
   "metadata": {},
   "outputs": [],
   "source": [
    "class Solution:\n",
    "    def titleToNumber(self, s):\n",
    "        \"\"\"\n",
    "        :type s: str\n",
    "        :rtype: int\n",
    "        \"\"\"\n",
    "        \n",
    "        shift = ord('A') - 1 # Shift the ACCSI code to rebase at 1.\n",
    "        number = 0\n",
    "        for i in range(len(s)):\n",
    "            j = len(s) - i - 1\n",
    "            number += (ord(s[i]) - shift) * 26 ** j\n",
    "        \n",
    "        return number\n",
    "        "
   ]
  },
  {
   "cell_type": "markdown",
   "metadata": {},
   "source": [
    "Let's run some tests"
   ]
  },
  {
   "cell_type": "code",
   "execution_count": 66,
   "metadata": {
    "scrolled": true
   },
   "outputs": [
    {
     "name": "stdout",
     "output_type": "stream",
     "text": [
      "3\n",
      "\n",
      "27\n",
      "\n",
      "28\n",
      "\n",
      "701\n",
      "\n",
      "494265\n",
      "\n"
     ]
    }
   ],
   "source": [
    "s = Solution()\n",
    "test_vectors = [\n",
    "    'C',\n",
    "    'AA', \n",
    "    'AB', \n",
    "    'ZY', \n",
    "    'ABCDE'\n",
    "]\n",
    "\n",
    "for v in test_vectors:\n",
    "    print(s.titleToNumber(v))\n",
    "    print()\n"
   ]
  }
 ],
 "metadata": {
  "kernelspec": {
   "display_name": "Python 3",
   "language": "python",
   "name": "python3"
  },
  "language_info": {
   "codemirror_mode": {
    "name": "ipython",
    "version": 3
   },
   "file_extension": ".py",
   "mimetype": "text/x-python",
   "name": "python",
   "nbconvert_exporter": "python",
   "pygments_lexer": "ipython3",
   "version": "3.6.5"
  }
 },
 "nbformat": 4,
 "nbformat_minor": 2
}
