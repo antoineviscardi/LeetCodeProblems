{
 "cells": [
  {
   "cell_type": "markdown",
   "metadata": {},
   "source": [
    "# 14. Longest Common Prefix"
   ]
  },
  {
   "cell_type": "markdown",
   "metadata": {},
   "source": [
    "My solution to [Longest Common Prefix](https://leetcode.com/problems/longest-common-prefix/description/)."
   ]
  },
  {
   "cell_type": "markdown",
   "metadata": {},
   "source": [
    "**Notes**:\n",
    "* All input in lower case\n",
    "* If no common prefix, return empty string\n",
    "\n",
    "We could simply `zip()` all string togheter and compare on char at a time, discarding strings as soon as we realize it is not similar to any other string. We then return whatever longest prefix found when all string were discarded or we reach the end.\n",
    "\n",
    "**Question**:\n",
    "* Does the prefix has to be common to all strings or any subset of the input strings (at least two)? The first example shows that it has to be common to all input strings."
   ]
  },
  {
   "cell_type": "code",
   "execution_count": 22,
   "metadata": {},
   "outputs": [],
   "source": [
    "class Solution:\n",
    "    def longestCommonPrefix(self, strs):\n",
    "        \"\"\"\n",
    "        :type strs: List[str]\n",
    "        :rtype: str\n",
    "        \"\"\"\n",
    "        \n",
    "        if len(strs) == 0:\n",
    "            return ''\n",
    "        \n",
    "        prefix_length = 0\n",
    "        for chars in zip(*strs):\n",
    "            if len(set(chars)) != 1:\n",
    "                break\n",
    "            prefix_length += 1\n",
    "        \n",
    "        return strs[0][:prefix_length]"
   ]
  },
  {
   "cell_type": "code",
   "execution_count": 24,
   "metadata": {},
   "outputs": [
    {
     "name": "stdout",
     "output_type": "stream",
     "text": [
      "fl\n",
      "\n",
      "\n"
     ]
    }
   ],
   "source": [
    "solution = Solution()\n",
    "test_vector = [\n",
    "    [\"flower\",\"flow\",\"flight\"],\n",
    "    [\"dog\",\"racecar\",\"car\"],\n",
    "    []\n",
    "]\n",
    "for test in test_vector:\n",
    "    print(solution.longestCommonPrefix(test))"
   ]
  },
  {
   "cell_type": "code",
   "execution_count": null,
   "metadata": {},
   "outputs": [],
   "source": []
  }
 ],
 "metadata": {
  "kernelspec": {
   "display_name": "Python 3",
   "language": "python",
   "name": "python3"
  },
  "language_info": {
   "codemirror_mode": {
    "name": "ipython",
    "version": 3
   },
   "file_extension": ".py",
   "mimetype": "text/x-python",
   "name": "python",
   "nbconvert_exporter": "python",
   "pygments_lexer": "ipython3",
   "version": "3.6.5"
  }
 },
 "nbformat": 4,
 "nbformat_minor": 2
}
