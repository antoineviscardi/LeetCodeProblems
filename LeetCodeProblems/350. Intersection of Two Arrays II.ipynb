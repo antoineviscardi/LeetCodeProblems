{
 "cells": [
  {
   "cell_type": "markdown",
   "metadata": {},
   "source": [
    "# 350. Intersection of Two Arrays II"
   ]
  },
  {
   "cell_type": "markdown",
   "metadata": {},
   "source": [
    "My solution to [Intersection of Two Arrays II](https://leetcode.com/problems/intersection-of-two-arrays-ii/)."
   ]
  },
  {
   "cell_type": "markdown",
   "metadata": {},
   "source": [
    "Key points:\n",
    "* We are given two arrays.\n",
    "* We need to compute the intersection of the two arrays."
   ]
  },
  {
   "cell_type": "markdown",
   "metadata": {},
   "source": [
    "A simple solution would be to iterate through the first array and try to find a matching element in the second array. If the element is found, we simply remove it. We stop once the second array is empty or if we reach the end of the first array."
   ]
  },
  {
   "cell_type": "code",
   "execution_count": 1,
   "metadata": {},
   "outputs": [],
   "source": [
    "class Solution:\n",
    "    def intersect(self, nums1, nums2):\n",
    "        \"\"\"\n",
    "        :type nums1: List[int]\n",
    "        :type nums2: List[int]\n",
    "        :rtype: List[int]\n",
    "        \"\"\"\n",
    "        \n",
    "        i = 0\n",
    "        while i < len(nums1):\n",
    "            try: \n",
    "                j = nums2.index(nums1[i])\n",
    "                nums2.pop(j)\n",
    "                i += 1\n",
    "            except ValueError:\n",
    "                nums1.pop(i)\n",
    "        \n",
    "        return nums1\n",
    "        "
   ]
  },
  {
   "cell_type": "markdown",
   "metadata": {},
   "source": [
    "Let's run some tests"
   ]
  },
  {
   "cell_type": "code",
   "execution_count": 2,
   "metadata": {
    "scrolled": true
   },
   "outputs": [
    {
     "name": "stdout",
     "output_type": "stream",
     "text": [
      "[2, 2]\n",
      "[4, 9]\n",
      "[2]\n"
     ]
    }
   ],
   "source": [
    "s = Solution()\n",
    "test_vectors = [\n",
    "    [[1,2,2,1], [2,2]],\n",
    "    [[4,9,5], [9,4,9,8,4]],\n",
    "    [[1,2,2,1], [2]]\n",
    "]\n",
    "\n",
    "for v in test_vectors:\n",
    "    print(s.intersect(v[0], v[1]))"
   ]
  }
 ],
 "metadata": {
  "kernelspec": {
   "display_name": "Python 3",
   "language": "python",
   "name": "python3"
  },
  "language_info": {
   "codemirror_mode": {
    "name": "ipython",
    "version": 3
   },
   "file_extension": ".py",
   "mimetype": "text/x-python",
   "name": "python",
   "nbconvert_exporter": "python",
   "pygments_lexer": "ipython3",
   "version": "3.6.5"
  }
 },
 "nbformat": 4,
 "nbformat_minor": 2
}
