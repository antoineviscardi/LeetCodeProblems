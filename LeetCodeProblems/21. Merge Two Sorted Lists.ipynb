{
 "cells": [
  {
   "cell_type": "markdown",
   "metadata": {},
   "source": [
    "# 21. Merge Two Sorted Lists"
   ]
  },
  {
   "cell_type": "markdown",
   "metadata": {},
   "source": [
    "My solution to [Merge Two Sorted Lists](https://leetcode.com/problems/merge-two-sorted-lists/description/)."
   ]
  },
  {
   "cell_type": "markdown",
   "metadata": {},
   "source": [
    "We can start with the smallest first element and then work our way towards the end of both linked list, linking the smallest element at each step."
   ]
  },
  {
   "cell_type": "code",
   "execution_count": 1,
   "metadata": {},
   "outputs": [],
   "source": [
    "# Definition for singly-linked list.\n",
    "# class ListNode:\n",
    "#     def __init__(self, x):\n",
    "#         self.val = x\n",
    "#         self.next = None\n",
    "\n",
    "class Solution:\n",
    "    def mergeTwoLists(self, l1, l2):\n",
    "        \"\"\"\n",
    "        :type l1: ListNode\n",
    "        :type l2: ListNode\n",
    "        :rtype: ListNode\n",
    "        \"\"\"\n",
    "        \n",
    "        if l1 is None:\n",
    "            return l2\n",
    "        \n",
    "        if l2 is None:\n",
    "            return l1\n",
    "        \n",
    "        # Initialization\n",
    "        if l1.val <= l2.val:\n",
    "            head = l1\n",
    "            pointer1 = head.next\n",
    "            pointer2 = l2\n",
    "        else:\n",
    "            head = l2\n",
    "            pointer1 = l1\n",
    "            pointer2 = head.next\n",
    "        tail = head\n",
    "        \n",
    "        while True:\n",
    "            if pointer1 is None:\n",
    "                tail.next = pointer2\n",
    "                break\n",
    "            elif pointer2 is None:\n",
    "                tail.next = pointer1\n",
    "                break\n",
    "                \n",
    "            if pointer1.val <= pointer2.val:\n",
    "                tail.next = pointer1\n",
    "                pointer1 = pointer1.next\n",
    "            else:\n",
    "                tail.next = pointer2\n",
    "                pointer2 = pointer2.next\n",
    "            tail = tail.next\n",
    "                \n",
    "        return head"
   ]
  },
  {
   "cell_type": "code",
   "execution_count": null,
   "metadata": {},
   "outputs": [],
   "source": []
  }
 ],
 "metadata": {
  "kernelspec": {
   "display_name": "Python 3",
   "language": "python",
   "name": "python3"
  },
  "language_info": {
   "codemirror_mode": {
    "name": "ipython",
    "version": 3
   },
   "file_extension": ".py",
   "mimetype": "text/x-python",
   "name": "python",
   "nbconvert_exporter": "python",
   "pygments_lexer": "ipython3",
   "version": "3.6.5"
  }
 },
 "nbformat": 4,
 "nbformat_minor": 2
}
