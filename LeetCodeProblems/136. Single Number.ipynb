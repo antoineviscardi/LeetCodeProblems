{
 "cells": [
  {
   "cell_type": "markdown",
   "metadata": {},
   "source": [
    "# 136. Single Number"
   ]
  },
  {
   "cell_type": "markdown",
   "metadata": {},
   "source": [
    "My solution to [Single Number](https://leetcode.com/problems/single-number/)."
   ]
  },
  {
   "cell_type": "markdown",
   "metadata": {},
   "source": [
    "Key points:\n",
    "* We are given an non-empty array of integers.\n",
    "* We know that every element appears twice except for one.\n",
    "* It should have a linear runtime complexity and not use extra memory."
   ]
  },
  {
   "cell_type": "markdown",
   "metadata": {},
   "source": [
    "This can be done by XORing all the elements togheter. They will all cancel out except for the unique one."
   ]
  },
  {
   "cell_type": "code",
   "execution_count": 1,
   "metadata": {},
   "outputs": [],
   "source": [
    "from functools import reduce\n",
    "\n",
    "\n",
    "class Solution:\n",
    "    def singleNumber(self, nums):\n",
    "        \"\"\"\n",
    "        :type nums: List[int]\n",
    "        :rtype: int\n",
    "        \"\"\"\n",
    "        \n",
    "        return reduce((lambda x, y: x ^ y), nums)\n",
    "                    "
   ]
  },
  {
   "cell_type": "markdown",
   "metadata": {},
   "source": [
    "Let's run some tests"
   ]
  },
  {
   "cell_type": "code",
   "execution_count": 2,
   "metadata": {
    "scrolled": true
   },
   "outputs": [
    {
     "name": "stdout",
     "output_type": "stream",
     "text": [
      "[2, 2, 1] 1\n",
      "[4, 1, 2, 1, 2] 4\n",
      "[15, 8, 7, 6, 6, 7, 8] 15\n"
     ]
    }
   ],
   "source": [
    "s = Solution()\n",
    "test_vectors = [\n",
    "    [2, 2, 1],\n",
    "    [4, 1, 2, 1, 2],\n",
    "    [15, 8, 7, 6, 6, 7, 8]\n",
    "]\n",
    "\n",
    "for v in test_vectors:\n",
    "    print(v, s.singleNumber(v))"
   ]
  }
 ],
 "metadata": {
  "kernelspec": {
   "display_name": "Python 3",
   "language": "python",
   "name": "python3"
  },
  "language_info": {
   "codemirror_mode": {
    "name": "ipython",
    "version": 3
   },
   "file_extension": ".py",
   "mimetype": "text/x-python",
   "name": "python",
   "nbconvert_exporter": "python",
   "pygments_lexer": "ipython3",
   "version": "3.6.5"
  }
 },
 "nbformat": 4,
 "nbformat_minor": 2
}
