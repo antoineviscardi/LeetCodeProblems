{
 "cells": [
  {
   "cell_type": "markdown",
   "metadata": {},
   "source": [
    "# 13. Roman to Integer\n",
    "My solution to [Roman to Integer](https://leetcode.com/problems/roman-to-integer/description/)."
   ]
  },
  {
   "cell_type": "markdown",
   "metadata": {},
   "source": [
    "The problem is pretty straightforward. The onlyedge case I can think of is if the input is empty.\n",
    "We can simply scan the string one char at a time and adding the values. We can keep a reference to the last char to test for substraction cases and adjust in consequence."
   ]
  },
  {
   "cell_type": "code",
   "execution_count": 29,
   "metadata": {},
   "outputs": [],
   "source": [
    "class Solution:\n",
    "    def romanToInt(self, s):\n",
    "        \"\"\"\n",
    "        :type s: str\n",
    "        :rtype: int\n",
    "        \"\"\"\n",
    "        \n",
    "        character_values = {'I':1, 'V':5, 'X':10, 'L':50, 'C':100, 'D':500, 'M':1000}\n",
    "        \n",
    "         #Only value added considering the first char's value was already added.\n",
    "        substraction_values = {'IV':3, 'IX':8, 'XL':30, 'XC':80, 'CD':300, 'CM':800}\n",
    "        result = 0\n",
    "        \n",
    "        previous_c = ''\n",
    "        for c in s:\n",
    "            \n",
    "            value = substraction_values.get(previous_c + c)\n",
    "            if value is None:\n",
    "                value = character_values.get(c)\n",
    "            if value is None:\n",
    "                print(\"Invalid input, character '{}' is invalid.\".format(c))\n",
    "                return\n",
    "            \n",
    "            result += value\n",
    "            previous_c = c\n",
    "            \n",
    "        return result\n",
    "                \n",
    "        "
   ]
  },
  {
   "cell_type": "code",
   "execution_count": 30,
   "metadata": {},
   "outputs": [
    {
     "name": "stdout",
     "output_type": "stream",
     "text": [
      "3\n",
      "Invalid input, character 'A' is invalid.\n",
      "None\n",
      "0\n",
      "9\n"
     ]
    }
   ],
   "source": [
    "solution = Solution()\n",
    "test_vector = ['III', 'ABC', '', 'IX']\n",
    "for test in test_vector:\n",
    "    print(solution.romanToInt(test))"
   ]
  },
  {
   "cell_type": "code",
   "execution_count": null,
   "metadata": {},
   "outputs": [],
   "source": []
  }
 ],
 "metadata": {
  "kernelspec": {
   "display_name": "Python 3",
   "language": "python",
   "name": "python3"
  },
  "language_info": {
   "codemirror_mode": {
    "name": "ipython",
    "version": 3
   },
   "file_extension": ".py",
   "mimetype": "text/x-python",
   "name": "python",
   "nbconvert_exporter": "python",
   "pygments_lexer": "ipython3",
   "version": "3.6.5"
  }
 },
 "nbformat": 4,
 "nbformat_minor": 2
}
