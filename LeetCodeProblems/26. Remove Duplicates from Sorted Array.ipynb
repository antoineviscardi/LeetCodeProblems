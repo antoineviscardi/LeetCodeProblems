{
 "cells": [
  {
   "cell_type": "markdown",
   "metadata": {},
   "source": [
    "# 26. Remove Duplicates from Sorted Array"
   ]
  },
  {
   "cell_type": "markdown",
   "metadata": {},
   "source": [
    "My solution to [Remove Duplicates from Sorted Array](https://leetcode.com/problems/remove-duplicates-from-sorted-array/)."
   ]
  },
  {
   "cell_type": "markdown",
   "metadata": {},
   "source": [
    "Key points:\n",
    "* The array is sorted.\n",
    "* The array mustbe modified in-place with O(1) extra memory. \n",
    "* The array is passed by reference so it should not be copied. \n",
    "* The returned value should be the length of the resulting array.\n",
    "* The remaining space (unused memory) can be left as is."
   ]
  },
  {
   "cell_type": "markdown",
   "metadata": {},
   "source": [
    "I will use two pointers for scanning the array and keep a count. The first pointer will be the reference value and the second will check if it is a duplicate. As soon as you encounter a duplicate, you slide the reference by one and copy the duplicate at that position. The output will be the final position of the reference pointer plus 1."
   ]
  },
  {
   "cell_type": "code",
   "execution_count": 1,
   "metadata": {},
   "outputs": [],
   "source": [
    "class Solution:\n",
    "    def removeDuplicates(self, nums):\n",
    "        \"\"\"\n",
    "        :type nums: List[int]\n",
    "        :rtype: int\n",
    "        \"\"\"\n",
    "        \n",
    "        l = len(nums)\n",
    "        if l == 0 or l == 1:\n",
    "            return l\n",
    "        \n",
    "        ref = 0 # reference pointer\n",
    "        \n",
    "        for trgt in range(1, l):\n",
    "            if nums[ref] != nums[trgt]:\n",
    "                ref += 1\n",
    "                nums[ref] = nums[trgt]\n",
    "        \n",
    "        return ref + 1"
   ]
  },
  {
   "cell_type": "markdown",
   "metadata": {},
   "source": [
    "Let's run some tests"
   ]
  },
  {
   "cell_type": "code",
   "execution_count": 2,
   "metadata": {
    "scrolled": true
   },
   "outputs": [
    {
     "name": "stdout",
     "output_type": "stream",
     "text": [
      "[1, 1, 2]\n",
      "[1, 2]\n",
      "[0, 0, 1, 1, 1, 2, 2, 3, 3, 4]\n",
      "[0, 1, 2, 3, 4]\n",
      "[]\n",
      "[]\n",
      "[42]\n",
      "[42]\n",
      "[1, 2, 3]\n",
      "[1, 2, 3]\n"
     ]
    }
   ],
   "source": [
    "s = Solution()\n",
    "test_vectors = [\n",
    "    [1,1,2],\n",
    "    [0,0,1,1,1,2,2,3,3,4],\n",
    "    [],\n",
    "    [42], \n",
    "    [1,2,3]\n",
    "]\n",
    "\n",
    "for v in test_vectors:\n",
    "    print(v)\n",
    "    l = s.removeDuplicates(v)\n",
    "    print(v[:l])"
   ]
  }
 ],
 "metadata": {
  "kernelspec": {
   "display_name": "Python 3",
   "language": "python",
   "name": "python3"
  },
  "language_info": {
   "codemirror_mode": {
    "name": "ipython",
    "version": 3
   },
   "file_extension": ".py",
   "mimetype": "text/x-python",
   "name": "python",
   "nbconvert_exporter": "python",
   "pygments_lexer": "ipython3",
   "version": "3.6.5"
  }
 },
 "nbformat": 4,
 "nbformat_minor": 2
}
