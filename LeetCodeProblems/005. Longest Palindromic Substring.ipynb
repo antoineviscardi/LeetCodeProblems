{
 "cells": [
  {
   "cell_type": "markdown",
   "metadata": {},
   "source": [
    "# 5. Longest Palindromic Substring"
   ]
  },
  {
   "cell_type": "markdown",
   "metadata": {},
   "source": [
    "My solution to [Longest Palindromic Substring](https://leetcode.com/problems/longest-palindromic-substring/)."
   ]
  },
  {
   "cell_type": "markdown",
   "metadata": {},
   "source": [
    "Key points:\n",
    "* We must find the longest palindromic substring in a given string `s`.\n",
    "* The maximum  length of `s` is 1000 charaters."
   ]
  },
  {
   "cell_type": "markdown",
   "metadata": {},
   "source": [
    "To do this I will use two pointers. On pointer will be the center of the palydrome. The second pointer will successively scan to the left and right until the palydromic property is broken. The longest length found will be saved and once the end of the string is reached, this value is returned.  "
   ]
  },
  {
   "cell_type": "code",
   "execution_count": 84,
   "metadata": {},
   "outputs": [],
   "source": [
    "class Solution:\n",
    "    def longestPalindrome(self, s):\n",
    "        \"\"\"\n",
    "        :type s: str\n",
    "        :rtype: str\n",
    "        \"\"\"\n",
    "        \n",
    "        if len(s) == 0:\n",
    "            return s\n",
    "        \n",
    "        max_len = -1  \n",
    "        max_center = 0\n",
    "        for c in range(len(s)): # c denotes the center of the palidrome\n",
    "            \n",
    "            # make sure we don't index outside the string s\n",
    "            cur_len_range = min(c, len(s) - c - 1)\n",
    "            \n",
    "            # Break if the possible max for that iteration is smaler then the current max.\n",
    "            if cur_len_range < max_len :\n",
    "                break;\n",
    "            \n",
    "            for cur_len in range(cur_len_range + 1):\n",
    "\n",
    "                # Not equal on both sides\n",
    "                if (s[c+cur_len] != s[c-cur_len]) :\n",
    "                    if cur_len - 1 > max_len:\n",
    "                        max_len = cur_len - 1\n",
    "                        max_center = c\n",
    "                    break \n",
    "                \n",
    "                # We hit the end and have longer length\n",
    "                if cur_len == cur_len_range and cur_len > max_len:\n",
    "                    max_len = cur_len\n",
    "                    max_center = c\n",
    "                        \n",
    "        return s[max_center-max_len:max_center+max_len+1]"
   ]
  },
  {
   "cell_type": "markdown",
   "metadata": {},
   "source": [
    "This should work for any palindrome with a odd length. Let's run some tests."
   ]
  },
  {
   "cell_type": "code",
   "execution_count": 85,
   "metadata": {
    "scrolled": true
   },
   "outputs": [
    {
     "name": "stdout",
     "output_type": "stream",
     "text": [
      "abcde           : a              \n",
      "abacde          : aba            \n",
      "a               : a              \n",
      "123454321       : 123454321      \n",
      "                :                \n",
      "12320           : 232            \n",
      "1221            : 1              \n"
     ]
    }
   ],
   "source": [
    "s = Solution()\n",
    "test_vectors = [\n",
    "    'abcde',\n",
    "    'abacde',\n",
    "    'a',\n",
    "    '123454321',\n",
    "    '',\n",
    "    '12320',\n",
    "    '1221'\n",
    "]\n",
    "\n",
    "for v in test_vectors:\n",
    "    print('{:15} : {:15}'.format(v, s.longestPalindrome(v)))"
   ]
  },
  {
   "cell_type": "markdown",
   "metadata": {},
   "source": [
    "---\n",
    "This works but, as the last test vector shows, not for palindromes with even length. We can fix that be successively checking for odd and even numbered palindromes.\n",
    "\n",
    "To do this, we start looking at `c = 1` instead of `0` and add one iteration where we include `c - 1` in the center."
   ]
  },
  {
   "cell_type": "code",
   "execution_count": 93,
   "metadata": {},
   "outputs": [],
   "source": [
    "class Solution:\n",
    "    def longestPalindrome(self, s):\n",
    "        \"\"\"\n",
    "        :type s: str\n",
    "        :rtype: str\n",
    "        \"\"\"\n",
    "        \n",
    "        if len(s) == 0 or len(s) == 1:\n",
    "            return s\n",
    "        \n",
    "        max_len = -1  \n",
    "        max_center = 0\n",
    "        max_even = 0\n",
    "        for c in range(len(s)): # c denotes the center of the palidrome\n",
    "            \n",
    "            # We extend our solution for even palindromes\n",
    "            for even in [0, 1]:\n",
    "               \n",
    "                # make sure we don't index outside the string s\n",
    "                cur_len_range = min(c - even, len(s) - c - 1)\n",
    "\n",
    "                # Break if the possible max for that iteration is smaler then the current max.\n",
    "                if cur_len_range < max_len :\n",
    "                    break;\n",
    "\n",
    "                for cur_len in range(cur_len_range + 1):\n",
    "\n",
    "                    # Not equal on both sides\n",
    "                    if (s[c+cur_len] != s[c-even-cur_len]) :\n",
    "                        if cur_len - 1 > max_len:\n",
    "                            max_len = cur_len - 1\n",
    "                            max_center = c\n",
    "                            max_even = even\n",
    "                        break \n",
    "\n",
    "                    # We hit the end and have longer length\n",
    "                    if cur_len == cur_len_range and cur_len + even > max_len:\n",
    "                        max_len = cur_len\n",
    "                        max_center = c\n",
    "                        max_even = even\n",
    "                        \n",
    "        return s[max_center-max_even-max_len:max_center+max_len+1]\n",
    "#         return max_center, max_len, max_even"
   ]
  },
  {
   "cell_type": "markdown",
   "metadata": {},
   "source": [
    "Let's run some other tests."
   ]
  },
  {
   "cell_type": "code",
   "execution_count": 94,
   "metadata": {},
   "outputs": [
    {
     "name": "stdout",
     "output_type": "stream",
     "text": [
      "abcde           : a              \n",
      "abacde          : aba            \n",
      "a               : a              \n",
      "123454321       : 123454321      \n",
      "                :                \n",
      "1221            : 1221           \n",
      "abbaf           : abba           \n",
      "fabba           : abba           \n",
      "abcddcbz        : bcddcb         \n",
      "cbbd            : c              \n",
      "bb              : bb             \n"
     ]
    }
   ],
   "source": [
    "s = Solution()\n",
    "test_vectors = [\n",
    "    'abcde',\n",
    "    'abacde',\n",
    "    'a',\n",
    "    '123454321',\n",
    "    '',\n",
    "    '1221',\n",
    "    'abbaf',\n",
    "    'fabba',\n",
    "    'abcddcbz',\n",
    "    'cbbd',\n",
    "    'bb'\n",
    "]\n",
    "\n",
    "for v in test_vectors:\n",
    "    print('{:15} : {:15}'.format(v, s.longestPalindrome(v)))\n",
    "#     print(v, s.longestPalindrome(v))"
   ]
  },
  {
   "cell_type": "code",
   "execution_count": null,
   "metadata": {},
   "outputs": [],
   "source": []
  }
 ],
 "metadata": {
  "kernelspec": {
   "display_name": "Python 3",
   "language": "python",
   "name": "python3"
  },
  "language_info": {
   "codemirror_mode": {
    "name": "ipython",
    "version": 3
   },
   "file_extension": ".py",
   "mimetype": "text/x-python",
   "name": "python",
   "nbconvert_exporter": "python",
   "pygments_lexer": "ipython3",
   "version": "3.6.5"
  }
 },
 "nbformat": 4,
 "nbformat_minor": 2
}
