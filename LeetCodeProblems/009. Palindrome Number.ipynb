{
 "cells": [
  {
   "cell_type": "markdown",
   "metadata": {},
   "source": [
    "# 9. Palindrome Number\n",
    "My solution to [Palindrom Number](https://leetcode.com/problems/palindrome-number/description/).\n",
    "\n",
    "## Solution\n",
    "The easiest solution, is simply to convert the integer to a string, reverse it and compare it to the original string."
   ]
  },
  {
   "cell_type": "code",
   "execution_count": 9,
   "metadata": {},
   "outputs": [],
   "source": [
    "class Solution:\n",
    "    def isPalindrome(self, x):\n",
    "        '''Determines whether or not the given number is a palindrome.\n",
    "        \n",
    "        Parameters\n",
    "        ----------\n",
    "        x : :obj:`int`\n",
    "        \n",
    "        \n",
    "        Returns\n",
    "        -------\n",
    "        :obj:`bool`\n",
    "        \n",
    "        '''\n",
    "        s = str(x)\n",
    "        s_inv = s[::-1] # invert string\n",
    "        if s == s_inv:\n",
    "            return True\n",
    "        return False        "
   ]
  },
  {
   "cell_type": "markdown",
   "metadata": {},
   "source": [
    "## Follow up\n",
    "How could this be implemented without converting the integer to a string?\n",
    "\n",
    "First, as soon as a number is negative, it fails.\n",
    "\n",
    "Then, we can extract the last digit by dividing by 10 and keeping the rest.\n",
    "\n",
    "We can build an inverted number by multiplying by 10 (shifting all digits to the left) and then adding the extracted last digit."
   ]
  },
  {
   "cell_type": "code",
   "execution_count": 39,
   "metadata": {},
   "outputs": [],
   "source": [
    "class Solution:\n",
    "    def isPalindrome(self, x):\n",
    "        '''Determines whether or not the given number is a palindrome.\n",
    "        \n",
    "        Parameters\n",
    "        ----------\n",
    "        x : :obj:`int`\n",
    "        \n",
    "        \n",
    "        Returns\n",
    "        -------\n",
    "        :obj:`bool`\n",
    "        \n",
    "        '''\n",
    "        if x < 0:\n",
    "            return False\n",
    "        \n",
    "        number = x\n",
    "        reverse = 0\n",
    "        while number > 0:\n",
    "            last_digit = number % 10\n",
    "            number = number // 10\n",
    "            reverse = (reverse * 10) + last_digit\n",
    "       \n",
    "        if x == reverse:\n",
    "            return True\n",
    "        \n",
    "        return False"
   ]
  },
  {
   "cell_type": "code",
   "execution_count": 40,
   "metadata": {},
   "outputs": [
    {
     "data": {
      "text/plain": [
       "True"
      ]
     },
     "execution_count": 40,
     "metadata": {},
     "output_type": "execute_result"
    }
   ],
   "source": [
    "s = Solution()\n",
    "s.isPalindrome(121)"
   ]
  }
 ],
 "metadata": {
  "kernelspec": {
   "display_name": "Python 3",
   "language": "python",
   "name": "python3"
  },
  "language_info": {
   "codemirror_mode": {
    "name": "ipython",
    "version": 3
   },
   "file_extension": ".py",
   "mimetype": "text/x-python",
   "name": "python",
   "nbconvert_exporter": "python",
   "pygments_lexer": "ipython3",
   "version": "3.6.5"
  }
 },
 "nbformat": 4,
 "nbformat_minor": 2
}
