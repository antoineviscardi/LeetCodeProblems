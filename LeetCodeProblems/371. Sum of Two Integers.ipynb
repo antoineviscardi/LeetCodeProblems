{
 "cells": [
  {
   "cell_type": "markdown",
   "metadata": {},
   "source": [
    "# 371. Sum of Two Integers"
   ]
  },
  {
   "cell_type": "markdown",
   "metadata": {},
   "source": [
    "My solution to [Sum of Two Integers](https://leetcode.com/problems/sum-of-two-integers/)."
   ]
  },
  {
   "cell_type": "markdown",
   "metadata": {},
   "source": [
    "Key points:\n",
    "* Must perform the sum of two integers\n",
    "* Cannot use `+` and `-` operands. (Therefore use only bitwise operations)"
   ]
  },
  {
   "cell_type": "markdown",
   "metadata": {},
   "source": [
    "We can compute the bitwise addition result using a XOR operation. We can then compute the bitwise carry using a AND operation and shifting to the left. The final result would be the sum of the two (which we are not permited to return using the `+` operand). So all we have to do is have the function recursively call itself until the the carry is 0.\n",
    "\n",
    "On important point here is to be aware of the internal representation of integers by Python. They are not bound so negative integers have the signed bit `1` extended to infinity. This forces us to use a mask and test the final result before returning it."
   ]
  },
  {
   "cell_type": "code",
   "execution_count": 1,
   "metadata": {},
   "outputs": [],
   "source": [
    "class Solution:\n",
    "    def getSum(self, a, b):\n",
    "        \"\"\"\n",
    "        :type a: int\n",
    "        :type b: int\n",
    "        :rtype: int\n",
    "        \"\"\"\n",
    "        \n",
    "        mask = 2**64-1 # 64 bit long integers\n",
    "        max_pos = 2**63-1 # biggest positive int\n",
    "        a = a & mask\n",
    "        b = b & mask\n",
    "        \n",
    "        result = (a ^ b)\n",
    "        carry = ((a & b) << 1)\n",
    "        \n",
    "        if carry:\n",
    "            return self.getSum(result, carry)\n",
    "        else:\n",
    "            return result if result <= max_pos else ~(result ^ mask)"
   ]
  },
  {
   "cell_type": "markdown",
   "metadata": {},
   "source": [
    "Let's run some tests"
   ]
  },
  {
   "cell_type": "code",
   "execution_count": 2,
   "metadata": {
    "scrolled": true
   },
   "outputs": [
    {
     "name": "stdout",
     "output_type": "stream",
     "text": [
      "3\n",
      "1060\n",
      "0\n",
      "8\n",
      "0\n",
      "-2\n"
     ]
    }
   ],
   "source": [
    "s = Solution()\n",
    "test_vectors = [\n",
    "    [1, 2],\n",
    "    [1024, 36],\n",
    "    [0, 0],\n",
    "    [7, 1],\n",
    "    [-1, 1],\n",
    "    [10, -12]\n",
    "]\n",
    "\n",
    "for a, b in test_vectors:\n",
    "    print(s.getSum(a, b))"
   ]
  }
 ],
 "metadata": {
  "kernelspec": {
   "display_name": "Python 3",
   "language": "python",
   "name": "python3"
  },
  "language_info": {
   "codemirror_mode": {
    "name": "ipython",
    "version": 3
   },
   "file_extension": ".py",
   "mimetype": "text/x-python",
   "name": "python",
   "nbconvert_exporter": "python",
   "pygments_lexer": "ipython3",
   "version": "3.6.5"
  }
 },
 "nbformat": 4,
 "nbformat_minor": 2
}
