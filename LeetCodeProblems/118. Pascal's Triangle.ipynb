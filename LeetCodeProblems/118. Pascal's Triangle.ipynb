{
 "cells": [
  {
   "cell_type": "markdown",
   "metadata": {},
   "source": [
    "# 118. Pascal's Triangle"
   ]
  },
  {
   "cell_type": "markdown",
   "metadata": {},
   "source": [
    "My solution to [Pascal's Triangle](https://leetcode.com/problems/pascals-triangle/)."
   ]
  },
  {
   "cell_type": "markdown",
   "metadata": {},
   "source": [
    "Key points:\n",
    "* We need to generate a pascal triangle with the given number of rows."
   ]
  },
  {
   "cell_type": "markdown",
   "metadata": {},
   "source": [
    "This is a trivial problem."
   ]
  },
  {
   "cell_type": "code",
   "execution_count": 1,
   "metadata": {},
   "outputs": [],
   "source": [
    "class Solution:\n",
    "    def generate(self, numRows):\n",
    "        \"\"\"\n",
    "        :type numRows: int\n",
    "        :rtype: List[List[int]]\n",
    "        \"\"\"\n",
    "        \n",
    "        if numRows == 0:\n",
    "            return []\n",
    "        \n",
    "        if numRows == 1:\n",
    "            return [[1]]\n",
    "        \n",
    "        if numRows == 2:\n",
    "            return [[1], [1, 1]]\n",
    "        \n",
    "        triangle = [[1], [1, 1]]\n",
    "        while numRows > 2:\n",
    "            last_row = triangle[-1]\n",
    "            new_row = [last_row[i] + last_row[i + 1] for i in range(len(last_row) - 1)]\n",
    "            triangle.append([1] + new_row + [1])\n",
    "            numRows -= 1\n",
    "        \n",
    "        return triangle\n",
    "            "
   ]
  },
  {
   "cell_type": "markdown",
   "metadata": {},
   "source": [
    "Let's run some tests"
   ]
  },
  {
   "cell_type": "code",
   "execution_count": 2,
   "metadata": {
    "scrolled": true
   },
   "outputs": [
    {
     "name": "stdout",
     "output_type": "stream",
     "text": [
      "[]\n",
      "[[1]]\n",
      "[[1], [1, 1]]\n",
      "[[1], [1, 1], [1, 2, 1]]\n",
      "[[1], [1, 1], [1, 2, 1], [1, 3, 3, 1]]\n"
     ]
    }
   ],
   "source": [
    "s = Solution()\n",
    "test_vectors = [\n",
    "    0, 1, 2, 3, 4\n",
    "]\n",
    "\n",
    "for v in test_vectors:\n",
    "    print(s.generate(v))"
   ]
  }
 ],
 "metadata": {
  "kernelspec": {
   "display_name": "Python 3",
   "language": "python",
   "name": "python3"
  },
  "language_info": {
   "codemirror_mode": {
    "name": "ipython",
    "version": 3
   },
   "file_extension": ".py",
   "mimetype": "text/x-python",
   "name": "python",
   "nbconvert_exporter": "python",
   "pygments_lexer": "ipython3",
   "version": "3.6.5"
  }
 },
 "nbformat": 4,
 "nbformat_minor": 2
}
