{
 "cells": [
  {
   "cell_type": "markdown",
   "metadata": {},
   "source": [
    "# 122. Best Time to Buy and Sell Stock II"
   ]
  },
  {
   "cell_type": "markdown",
   "metadata": {},
   "source": [
    "My solution to [Best Time to Buy and Sell Stock II\n",
    "](https://leetcode.com/problems/best-time-to-buy-and-sell-stock-ii/)."
   ]
  },
  {
   "cell_type": "markdown",
   "metadata": {},
   "source": [
    "Key points:\n",
    "* We are given an array where the $i^{th}$ element is the price of a stock on day $i$.\n",
    "* We must return the maximum profit possible.\n",
    "* You can only hold one position at a time (must sell before buying again)."
   ]
  },
  {
   "cell_type": "markdown",
   "metadata": {},
   "source": [
    "This should be fairly simple to implement. You simply require to scan the array and compare each value to the preceding one.\n",
    "\n",
    "You set the first pointer as soon as you find a value for which the following value is lower. You then scan until you find a value for which the following value is higher (this is your exit point). You keep track of your profit by substracting the exit value from the entry value."
   ]
  },
  {
   "cell_type": "code",
   "execution_count": 40,
   "metadata": {},
   "outputs": [],
   "source": [
    "class Solution:\n",
    "    def maxProfit(self, prices):\n",
    "        \"\"\"\n",
    "        :type prices: List[int]\n",
    "        :rtype: int\n",
    "        \"\"\"\n",
    "        \n",
    "        if len(prices) == 0:\n",
    "            return 0\n",
    "        \n",
    "        # Keep track of profit as you go\n",
    "        profit = 0\n",
    "        \n",
    "        # Have you bought?\n",
    "        bought = False\n",
    "        \n",
    "        i = 1\n",
    "        while i < len(prices):\n",
    "            \n",
    "            # Scan until you find an entry point\n",
    "            if not bought and prices[i] > prices[i - 1]:\n",
    "                bought = True\n",
    "                profit -= prices[i-1]\n",
    "            \n",
    "            # Scan until you find an exit point\n",
    "            elif bought and prices[i] < prices[i - 1]:\n",
    "                bought = False\n",
    "                profit += prices[i-1]\n",
    "                \n",
    "            i += 1\n",
    "        \n",
    "        # If you reached end and still have a position, sell at last price\n",
    "        if bought:\n",
    "            profit += prices[-1]\n",
    "        \n",
    "        # Return the profit\n",
    "        return profit    "
   ]
  },
  {
   "cell_type": "markdown",
   "metadata": {},
   "source": [
    "Let's run some tests"
   ]
  },
  {
   "cell_type": "code",
   "execution_count": 41,
   "metadata": {
    "scrolled": true
   },
   "outputs": [
    {
     "name": "stdout",
     "output_type": "stream",
     "text": [
      "buy: 1\n",
      "sell: 5\n",
      "4\n",
      "buy: 1\n",
      "sell: 8\n",
      "7\n",
      "buy: 1\n",
      "sell: 5\n",
      "buy: 3\n",
      "sell: 6\n",
      "7\n",
      "buy: 1\n",
      "sell: 5\n",
      "4\n",
      "0\n",
      "0\n",
      "0\n"
     ]
    }
   ],
   "source": [
    "s = Solution()\n",
    "test_vectors = [\n",
    "    [1,2,3,4,5],\n",
    "    [1,4,8,7,6,5],\n",
    "    [7,1,5,3,6,4],\n",
    "    [1,2,3,4,5],\n",
    "    [7,6,4,3,1],\n",
    "    [1],\n",
    "    []\n",
    "]\n",
    "\n",
    "for v in test_vectors:\n",
    "    print(s.maxProfit(v))"
   ]
  },
  {
   "cell_type": "code",
   "execution_count": null,
   "metadata": {},
   "outputs": [],
   "source": []
  }
 ],
 "metadata": {
  "kernelspec": {
   "display_name": "Python 3",
   "language": "python",
   "name": "python3"
  },
  "language_info": {
   "codemirror_mode": {
    "name": "ipython",
    "version": 3
   },
   "file_extension": ".py",
   "mimetype": "text/x-python",
   "name": "python",
   "nbconvert_exporter": "python",
   "pygments_lexer": "ipython3",
   "version": "3.6.5"
  }
 },
 "nbformat": 4,
 "nbformat_minor": 2
}
