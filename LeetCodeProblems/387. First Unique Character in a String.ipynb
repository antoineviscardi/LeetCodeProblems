{
 "cells": [
  {
   "cell_type": "markdown",
   "metadata": {},
   "source": [
    "# 387. First Unique Character in a String"
   ]
  },
  {
   "cell_type": "markdown",
   "metadata": {},
   "source": [
    "My solution to [First Unique Character in a String](https://leetcode.com/problems/first-unique-character-in-a-string/)."
   ]
  },
  {
   "cell_type": "markdown",
   "metadata": {},
   "source": [
    "Key points:\n",
    "* We are given a string.\n",
    "* We need to find the first character that is unique in the string.\n",
    "* We return its index or -1 if none exist.\n",
    "* We can assume only lowercase characters."
   ]
  },
  {
   "cell_type": "markdown",
   "metadata": {},
   "source": [
    "We could use a hash table that stores each character as a key. As we iterate, if a char is not already a key, create it and set the value to the index. If the char is already a key we simply set the value to -1. We return the lowest integer in the resulting table's values."
   ]
  },
  {
   "cell_type": "code",
   "execution_count": 1,
   "metadata": {},
   "outputs": [],
   "source": [
    "class Solution:\n",
    "    def firstUniqChar(self, s):\n",
    "        \"\"\"\n",
    "        :type s: str\n",
    "        :rtype: int\n",
    "        \"\"\"\n",
    "        \n",
    "        if len(s) == 0:\n",
    "            return -1\n",
    "        \n",
    "        table = dict()\n",
    "        for i in range(len(s)):\n",
    "            if s[i] in table:\n",
    "                table[s[i]] = len(s)\n",
    "            else:\n",
    "                table[s[i]] = i\n",
    "        \n",
    "        result =  min(table.values())\n",
    "        return -1 if result == len(s) else result"
   ]
  },
  {
   "cell_type": "markdown",
   "metadata": {},
   "source": [
    "Let's run some tests"
   ]
  },
  {
   "cell_type": "code",
   "execution_count": 2,
   "metadata": {
    "scrolled": true
   },
   "outputs": [
    {
     "name": "stdout",
     "output_type": "stream",
     "text": [
      "0\n",
      "2\n",
      "-1\n"
     ]
    }
   ],
   "source": [
    "s = Solution()\n",
    "test_vectors = [\n",
    "    'leetcode',\n",
    "    'loveleetcode',\n",
    "    'abcddcba'\n",
    "]\n",
    "\n",
    "for v in test_vectors:\n",
    "    print(s.firstUniqChar(v))"
   ]
  }
 ],
 "metadata": {
  "kernelspec": {
   "display_name": "Python 3",
   "language": "python",
   "name": "python3"
  },
  "language_info": {
   "codemirror_mode": {
    "name": "ipython",
    "version": 3
   },
   "file_extension": ".py",
   "mimetype": "text/x-python",
   "name": "python",
   "nbconvert_exporter": "python",
   "pygments_lexer": "ipython3",
   "version": "3.6.5"
  }
 },
 "nbformat": 4,
 "nbformat_minor": 2
}
