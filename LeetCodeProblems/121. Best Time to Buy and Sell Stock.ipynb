{
 "cells": [
  {
   "cell_type": "markdown",
   "metadata": {},
   "source": [
    "# 121. Best Time to Buy and Sell Stock"
   ]
  },
  {
   "cell_type": "markdown",
   "metadata": {},
   "source": [
    "My solution to [Best Time to Buy and Sell Stock](https://leetcode.com/problems/best-time-to-buy-and-sell-stock/)."
   ]
  },
  {
   "cell_type": "markdown",
   "metadata": {},
   "source": [
    "Key points:\n",
    "* We are given a list of stock prices.\n",
    "* Given that we can only perform one transaction, we need to find the best possible entry and exit point.\n",
    "* We have to return the profit generated."
   ]
  },
  {
   "cell_type": "markdown",
   "metadata": {},
   "source": [
    "We can simply isolate pairs of local minimums followed by local maximums and return whichever grants the largest difference."
   ]
  },
  {
   "cell_type": "code",
   "execution_count": 1,
   "metadata": {},
   "outputs": [],
   "source": [
    "class Solution:\n",
    "    def maxProfit(self, prices):\n",
    "        \"\"\"\n",
    "        :type prices: List[int]\n",
    "        :rtype: int\n",
    "        \"\"\"\n",
    "        \n",
    "        if len(prices) == 0:\n",
    "            return 0\n",
    "        \n",
    "        profit = 0\n",
    "        min_p = prices[0]\n",
    "        max_p = prices[0]\n",
    "        \n",
    "        for p in prices:\n",
    "            if p < min_p:\n",
    "                min_p = p\n",
    "                max_p = p\n",
    "            else:\n",
    "                max_p = p\n",
    "            \n",
    "            if max_p - min_p > profit:\n",
    "                profit = max_p - min_p\n",
    "       \n",
    "        return profit"
   ]
  },
  {
   "cell_type": "markdown",
   "metadata": {},
   "source": [
    "Let's run some tests"
   ]
  },
  {
   "cell_type": "code",
   "execution_count": 2,
   "metadata": {
    "scrolled": true
   },
   "outputs": [
    {
     "name": "stdout",
     "output_type": "stream",
     "text": [
      "5\n",
      "0\n",
      "0\n",
      "23\n"
     ]
    }
   ],
   "source": [
    "s = Solution()\n",
    "test_vectors = [\n",
    "    [7,1,5,3,6,4],\n",
    "    [7,6,4,3,1],\n",
    "    [],\n",
    "    [3,1,8,3,24]\n",
    "]\n",
    "\n",
    "for v in test_vectors:\n",
    "    print(s.maxProfit(v))"
   ]
  }
 ],
 "metadata": {
  "kernelspec": {
   "display_name": "Python 3",
   "language": "python",
   "name": "python3"
  },
  "language_info": {
   "codemirror_mode": {
    "name": "ipython",
    "version": 3
   },
   "file_extension": ".py",
   "mimetype": "text/x-python",
   "name": "python",
   "nbconvert_exporter": "python",
   "pygments_lexer": "ipython3",
   "version": "3.6.5"
  }
 },
 "nbformat": 4,
 "nbformat_minor": 2
}
