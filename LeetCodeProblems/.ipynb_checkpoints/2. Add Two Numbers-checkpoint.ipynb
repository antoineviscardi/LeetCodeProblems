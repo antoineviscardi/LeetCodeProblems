{
 "cells": [
  {
   "cell_type": "markdown",
   "metadata": {},
   "source": [
    "# 2. Add Two Numbers\n",
    "My solution to [Add Two Numbers](https://leetcode.com/problems/add-two-numbers/description/)."
   ]
  },
  {
   "cell_type": "code",
   "execution_count": 1,
   "metadata": {},
   "outputs": [],
   "source": [
    "# Definition for singly-linked list.\n",
    "class ListNode:\n",
    "    def __init__(self, x):\n",
    "        self.val = x\n",
    "        self.next = None\n",
    "    \n",
    "    def print(self):\n",
    "        ''' Utility to print list from the current node \n",
    "        '''\n",
    "        current = self\n",
    "        while current != None:\n",
    "            print(current.val, end='')\n",
    "            current = current.next\n",
    "        print()\n",
    "        \n",
    "        "
   ]
  },
  {
   "cell_type": "markdown",
   "metadata": {},
   "source": [
    "## Solution\n",
    "We can easely traverse the linked lists to rebuilt the numbers. At every iteration of the traversal process, we add the node value multiplied by its positional power of 10."
   ]
  },
  {
   "cell_type": "code",
   "execution_count": 2,
   "metadata": {},
   "outputs": [],
   "source": [
    "class Solution:\n",
    "    def addTwoNumbers(self, l1, l2):\n",
    "        \"\"\"\n",
    "        :type l1: ListNode\n",
    "        :type l2: ListNode\n",
    "        :rtype: ListNode\n",
    "        \"\"\"\n",
    "        n1 = 0\n",
    "        n2 = 0\n",
    "        \n",
    "        # Build first number\n",
    "        idx = 0\n",
    "        while l1 != None:\n",
    "            n1 += l1.val * (10 ** idx)\n",
    "            l1 = l1.next\n",
    "            idx += 1\n",
    "        \n",
    "        # Build second number\n",
    "        idx = 0\n",
    "        while l2 != None:\n",
    "            n2 += l2.val * (10 **idx)\n",
    "            l2 = l2.next\n",
    "            idx += 1\n",
    "        \n",
    "        # Sum and create first node\n",
    "        sum = n1 + n2\n",
    "        result = ListNode(sum % 10)\n",
    "        current = result\n",
    "        sum = sum // 10\n",
    "        \n",
    "        # Iterate to create subsequent nodes\n",
    "        while sum != 0:\n",
    "            current.next = ListNode(sum % 10)\n",
    "            sum = sum // 10\n",
    "            current = current.next\n",
    "            \n",
    "        return result\n",
    "            "
   ]
  },
  {
   "cell_type": "markdown",
   "metadata": {},
   "source": [
    "## Testcases"
   ]
  },
  {
   "cell_type": "code",
   "execution_count": 3,
   "metadata": {},
   "outputs": [
    {
     "name": "stdout",
     "output_type": "stream",
     "text": [
      "243\n",
      "564\n",
      "708\n"
     ]
    }
   ],
   "source": [
    "l1 = ListNode(2)\n",
    "l1.next = ListNode(4)\n",
    "l1.next.next = ListNode(3)\n",
    "l1.print()\n",
    "\n",
    "l2 = ListNode(5)\n",
    "l2.next = ListNode(6)\n",
    "l2.next.next = ListNode(4)\n",
    "l2.print()\n",
    "\n",
    "s = Solution()\n",
    "r = s.addTwoNumbers(l1, l2) # 708\n",
    "r.print()"
   ]
  },
  {
   "cell_type": "code",
   "execution_count": 4,
   "metadata": {},
   "outputs": [
    {
     "name": "stdout",
     "output_type": "stream",
     "text": [
      "2439\n",
      "564\n",
      "7089\n"
     ]
    }
   ],
   "source": [
    "l1 = ListNode(2)\n",
    "l1.next = ListNode(4)\n",
    "l1.next.next = ListNode(3)\n",
    "l1.next.next.next = ListNode(9)\n",
    "l1.print()\n",
    "\n",
    "l2 = ListNode(5)\n",
    "l2.next = ListNode(6)\n",
    "l2.next.next = ListNode(4)\n",
    "l2.print()\n",
    "\n",
    "s = Solution()\n",
    "r = s.addTwoNumbers(l1, l2) # 7089\n",
    "r.print()"
   ]
  },
  {
   "cell_type": "markdown",
   "metadata": {},
   "source": [
    "## Solution 2\n",
    "Although the first solution is correct, it is not bery efficient. A better approach would be to add nodes values directly while building the new list."
   ]
  },
  {
   "cell_type": "code",
   "execution_count": 42,
   "metadata": {},
   "outputs": [],
   "source": [
    "class Solution:\n",
    "    def addTwoNumbers(self, l1, l2):\n",
    "        \"\"\"\n",
    "        :type l1: ListNode\n",
    "        :type l2: ListNode\n",
    "        :rtype: ListNode\n",
    "        \"\"\"\n",
    "        c = 0\n",
    "        s = l1.val + l2.val\n",
    "        if (s >= 10):\n",
    "            c = 1\n",
    "            s -= 10\n",
    "        result = ListNode(s)\n",
    "        current = result\n",
    "        \n",
    "        while True:\n",
    "            if l1 != None:\n",
    "                l1 = l1.next\n",
    "                \n",
    "            if l2 != None:\n",
    "                l2 = l2.next\n",
    "                \n",
    "            if (l1 == None and l2 == None and c == 0):\n",
    "                break\n",
    "                \n",
    "            if l1 == None:\n",
    "                val1 = 0\n",
    "            else :\n",
    "                val1 = l1.val\n",
    "            \n",
    "            if l2 == None:\n",
    "                val2 = 0\n",
    "            else :\n",
    "                val2 = l2.val\n",
    "            \n",
    "            s = val1 + val2 + c\n",
    "            if (s >= 10):\n",
    "                c = 1\n",
    "                s -= 10\n",
    "            else :\n",
    "                c = 0\n",
    "            current.next = ListNode(s)\n",
    "            current = current.next\n",
    "            \n",
    "        return result"
   ]
  },
  {
   "cell_type": "markdown",
   "metadata": {},
   "source": [
    "## Testcases"
   ]
  },
  {
   "cell_type": "code",
   "execution_count": 34,
   "metadata": {},
   "outputs": [
    {
     "name": "stdout",
     "output_type": "stream",
     "text": [
      "243\n",
      "564\n",
      "708\n"
     ]
    }
   ],
   "source": [
    "l1 = ListNode(2)\n",
    "l1.next = ListNode(4)\n",
    "l1.next.next = ListNode(3)\n",
    "l1.print()\n",
    "\n",
    "l2 = ListNode(5)\n",
    "l2.next = ListNode(6)\n",
    "l2.next.next = ListNode(4)\n",
    "l2.print()\n",
    "\n",
    "s = Solution()\n",
    "r = s.addTwoNumbers(l1, l2) # 708\n",
    "r.print()"
   ]
  },
  {
   "cell_type": "code",
   "execution_count": 43,
   "metadata": {},
   "outputs": [
    {
     "name": "stdout",
     "output_type": "stream",
     "text": [
      "5\n",
      "5\n",
      "0\n"
     ]
    }
   ],
   "source": [
    "l1 = ListNode(5)\n",
    "l1.print()\n",
    "\n",
    "l2 = ListNode(5)\n",
    "l2.print()\n",
    "\n",
    "s = Solution()\n",
    "r = s.addTwoNumbers(l1, l2) # 01\n",
    "r.print()"
   ]
  },
  {
   "cell_type": "code",
   "execution_count": null,
   "metadata": {},
   "outputs": [],
   "source": []
  }
 ],
 "metadata": {
  "kernelspec": {
   "display_name": "Python 3",
   "language": "python",
   "name": "python3"
  },
  "language_info": {
   "codemirror_mode": {
    "name": "ipython",
    "version": 3
   },
   "file_extension": ".py",
   "mimetype": "text/x-python",
   "name": "python",
   "nbconvert_exporter": "python",
   "pygments_lexer": "ipython3",
   "version": "3.6.5"
  }
 },
 "nbformat": 4,
 "nbformat_minor": 2
}
