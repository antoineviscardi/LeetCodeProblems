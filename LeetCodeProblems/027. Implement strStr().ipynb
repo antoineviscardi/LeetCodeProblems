{
 "cells": [
  {
   "cell_type": "markdown",
   "metadata": {},
   "source": [
    "# 27. Implement `strStr()`"
   ]
  },
  {
   "cell_type": "markdown",
   "metadata": {},
   "source": [
    "My solution to [Implement `strStr()`](https://leetcode.com/problems/implement-strstr/)."
   ]
  },
  {
   "cell_type": "markdown",
   "metadata": {},
   "source": [
    "Key points:\n",
    "* We a a string (haystack).\n",
    "* We want to return the  index of the first occurence of another string (needle) or -1 if it is not present.\n",
    "* If needle is empty, return 0."
   ]
  },
  {
   "cell_type": "markdown",
   "metadata": {},
   "source": [
    "The first solution that comes to my mind is simply to use regular expressions. Lets do it!"
   ]
  },
  {
   "cell_type": "code",
   "execution_count": 3,
   "metadata": {},
   "outputs": [],
   "source": [
    "import re\n",
    "\n",
    "\n",
    "class Solution:\n",
    "    def strStr(self, haystack, needle):\n",
    "        \"\"\"\n",
    "        :type haystack: str\n",
    "        :type needle: str\n",
    "        :rtype: int\n",
    "        \"\"\"\n",
    "        \n",
    "        if len(needle) == 0:\n",
    "            return 0\n",
    "        \n",
    "        m = re.search(needle, haystack)\n",
    "        if m:\n",
    "            return m.start()\n",
    "        else:\n",
    "            return -1\n",
    "        "
   ]
  },
  {
   "cell_type": "markdown",
   "metadata": {},
   "source": [
    "Let's run some tests"
   ]
  },
  {
   "cell_type": "code",
   "execution_count": 10,
   "metadata": {
    "scrolled": true
   },
   "outputs": [
    {
     "name": "stdout",
     "output_type": "stream",
     "text": [
      "['hello', 'll']\n",
      "2\n",
      "['aaaaa', 'bba']\n",
      "-1\n",
      "['aaabbbaaa', 'aaa']\n",
      "0\n",
      "['bcdaaaa', 'a']\n",
      "3\n",
      "['', '']\n",
      "0\n",
      "['ok', '']\n",
      "0\n",
      "['', 'ok']\n",
      "-1\n"
     ]
    }
   ],
   "source": [
    "s = Solution()\n",
    "test_vectors = [\n",
    "    ['hello', 'll'],\n",
    "    ['aaaaa', 'bba'],\n",
    "    ['aaabbbaaa',  'aaa'],\n",
    "    ['bcdaaaa', 'a'], \n",
    "    ['', ''],\n",
    "    ['ok', ''],\n",
    "    ['', 'ok']\n",
    "]\n",
    "\n",
    "for v in test_vectors:\n",
    "    print(v)\n",
    "    print(s.strStr(v[0], v[1]))"
   ]
  },
  {
   "cell_type": "markdown",
   "metadata": {},
   "source": [
    "---\n",
    "It seems like `re` is pretty slow. I my solution is barely faster than 1% of the other solutions. Let's adopt another approach and implement it by hand."
   ]
  },
  {
   "cell_type": "code",
   "execution_count": 12,
   "metadata": {},
   "outputs": [],
   "source": [
    "class Solution:\n",
    "    def strStr(self, haystack, needle):\n",
    "        \"\"\"\n",
    "        :type haystack: str\n",
    "        :type needle: str\n",
    "        :rtype: int\n",
    "        \"\"\"\n",
    "        \n",
    "        if len(needle) == 0:\n",
    "            return 0\n",
    "        \n",
    "        for i in range(len(haystack) - len(needle) + 1):\n",
    "            if haystack[i] == needle[0]:\n",
    "                for j in range(len(needle)):\n",
    "                    if haystack[i+j] != needle[j]:\n",
    "                        break\n",
    "                    elif j == len(needle) - 1:\n",
    "                        return i\n",
    "        \n",
    "        return -1"
   ]
  },
  {
   "cell_type": "markdown",
   "metadata": {},
   "source": [
    "This solution is much faster. It removes all the overhead that comes with using the extensive functionalities of `re`."
   ]
  }
 ],
 "metadata": {
  "kernelspec": {
   "display_name": "Python 3",
   "language": "python",
   "name": "python3"
  },
  "language_info": {
   "codemirror_mode": {
    "name": "ipython",
    "version": 3
   },
   "file_extension": ".py",
   "mimetype": "text/x-python",
   "name": "python",
   "nbconvert_exporter": "python",
   "pygments_lexer": "ipython3",
   "version": "3.6.5"
  }
 },
 "nbformat": 4,
 "nbformat_minor": 2
}
