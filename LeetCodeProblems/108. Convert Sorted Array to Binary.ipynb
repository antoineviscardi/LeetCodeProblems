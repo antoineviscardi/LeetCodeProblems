{
 "cells": [
  {
   "cell_type": "markdown",
   "metadata": {},
   "source": [
    "# 108. Convert Sorted Array to Binary"
   ]
  },
  {
   "cell_type": "markdown",
   "metadata": {},
   "source": [
    "My solution to [Convert Sorted Array to Binary](https://leetcode.com/problems/convert-sorted-array-to-binary-search-tree/)."
   ]
  },
  {
   "cell_type": "markdown",
   "metadata": {},
   "source": [
    "Key points:\n",
    "* We are given an array of sorted elements in ascending order.\n",
    "* We have to convert it to a height-balanced binary tree."
   ]
  },
  {
   "cell_type": "markdown",
   "metadata": {},
   "source": [
    "I would start by finding the midle of the tree. If the array as a even number of elements, I will take the right most one. However, this simply an implementation decision and using the left value would result in a valid answer as well.\n",
    "\n",
    "We can then divide in conqer using recusrsion. Indeed, if you split the array in the middle, the left branch will be the result of the algorithm applied to the elements at the left of the split and similarely with the elements to the right. "
   ]
  },
  {
   "cell_type": "code",
   "execution_count": 1,
   "metadata": {},
   "outputs": [],
   "source": [
    "# Definition for a binary tree node.\n",
    "class TreeNode:\n",
    "    def __init__(self, x):\n",
    "        self.val = x\n",
    "        self.left = None\n",
    "        self.right = None\n",
    "\n",
    "class Solution:\n",
    "    def sortedArrayToBST(self, nums):\n",
    "        \"\"\"\n",
    "        :type nums: List[int]\n",
    "        :rtype: TreeNode\n",
    "        \"\"\"\n",
    "        \n",
    "        if len(nums) == 0:\n",
    "            return None\n",
    "        \n",
    "        split = len(nums) // 2\n",
    "        root = TreeNode(nums[len(nums) // 2])\n",
    "        root.left = self.sortedArrayToBST(nums[:split])\n",
    "        root.right = self.sortedArrayToBST(nums[split+1:])\n",
    "        return root\n",
    "                    "
   ]
  },
  {
   "cell_type": "markdown",
   "metadata": {},
   "source": [
    "Let's run some tests"
   ]
  },
  {
   "cell_type": "code",
   "execution_count": 2,
   "metadata": {
    "scrolled": true
   },
   "outputs": [
    {
     "name": "stdout",
     "output_type": "stream",
     "text": [
      "[2, 1, 3, 'None', 'None', 'None', 'None']\n",
      "[0, -3, 9, -10, 'None', 5, 'None', 'None', 'None', 'None', 'None']\n"
     ]
    }
   ],
   "source": [
    "s = Solution()\n",
    "test_vectors = [\n",
    "    [1,2,3],\n",
    "    [-10, -3, 0, 5, 9]\n",
    "]\n",
    "\n",
    "for v in test_vectors:\n",
    "    root = s.sortedArrayToBST(v)\n",
    "    leafs = [root]\n",
    "    i = 0\n",
    "    while True:\n",
    "        leaf = leafs[i]\n",
    "        if leaf != None:\n",
    "            leafs.append(leaf.left)\n",
    "            leafs.append(leaf.right)\n",
    "        i += 1\n",
    "        if i == len(leafs):\n",
    "            break\n",
    "    print([leaf.val if leaf != None else 'None' for leaf in leafs])\n",
    "        \n",
    "    "
   ]
  }
 ],
 "metadata": {
  "kernelspec": {
   "display_name": "Python 3",
   "language": "python",
   "name": "python3"
  },
  "language_info": {
   "codemirror_mode": {
    "name": "ipython",
    "version": 3
   },
   "file_extension": ".py",
   "mimetype": "text/x-python",
   "name": "python",
   "nbconvert_exporter": "python",
   "pygments_lexer": "ipython3",
   "version": "3.6.5"
  }
 },
 "nbformat": 4,
 "nbformat_minor": 2
}
