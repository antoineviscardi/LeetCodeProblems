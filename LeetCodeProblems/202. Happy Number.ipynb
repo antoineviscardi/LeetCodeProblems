{
 "cells": [
  {
   "cell_type": "markdown",
   "metadata": {},
   "source": [
    "# 202. Happy Number"
   ]
  },
  {
   "cell_type": "markdown",
   "metadata": {},
   "source": [
    "My solution to [Happy Number](https://leetcode.com/problems/happy-number/)."
   ]
  },
  {
   "cell_type": "markdown",
   "metadata": {},
   "source": [
    "Key points:\n",
    "* We are given a number.\n",
    "* We have to determine if the number is \"Happy\".\n",
    "    * A happy number is a number such that if you repetitively replace it by the sum of the squares of its digits, you eventually get 1. \n",
    "* The only reason you would not get to 1 is if you et stuck in a cycle that does not include 1."
   ]
  },
  {
   "cell_type": "markdown",
   "metadata": {},
   "source": [
    "Looking at the Happy Number [Wikipedia page](https://en.wikipedia.org/wiki/Happy_number), we know that any starting number will converge to a number smaller than 100. Therefore, we can simply check for loops for numbers smaller than $9^2 + 9^2$ with the help of a hash map."
   ]
  },
  {
   "cell_type": "code",
   "execution_count": 3,
   "metadata": {},
   "outputs": [],
   "source": [
    "class Solution:\n",
    "    def isHappy(self, n):\n",
    "        \"\"\"\n",
    "        :type n: int\n",
    "        :rtype: bool\n",
    "        \"\"\"\n",
    "        \n",
    "        while n > 100:\n",
    "            \n",
    "            # Sum square of digits\n",
    "            n = sum(int(i) ** 2 for i in str(n))\n",
    "            \n",
    "        hash_map = {i:False for i in range(81*81)}\n",
    "        while n != 1:\n",
    "            if hash_map[n]:\n",
    "                return False\n",
    "            hash_map[n] = True\n",
    "            \n",
    "            # Sum square of digits\n",
    "            n = sum(int(i) ** 2 for i in str(n))\n",
    "            \n",
    "        return True\n",
    "            \n",
    "            "
   ]
  },
  {
   "cell_type": "markdown",
   "metadata": {},
   "source": [
    "Let's run some tests"
   ]
  },
  {
   "cell_type": "code",
   "execution_count": 4,
   "metadata": {
    "scrolled": true
   },
   "outputs": [
    {
     "name": "stdout",
     "output_type": "stream",
     "text": [
      "True\n",
      "True\n",
      "True\n",
      "True\n",
      "True\n",
      "False\n",
      "False\n",
      "False\n",
      "False\n"
     ]
    }
   ],
   "source": [
    "s = Solution()\n",
    "test_vectors = [\n",
    "    1, 7, 10, 13, 19, 4, 8, 12, 18\n",
    "]\n",
    "\n",
    "for v in test_vectors:\n",
    "    print(s.isHappy(v))"
   ]
  },
  {
   "cell_type": "code",
   "execution_count": null,
   "metadata": {},
   "outputs": [],
   "source": []
  }
 ],
 "metadata": {
  "kernelspec": {
   "display_name": "Python 3",
   "language": "python",
   "name": "python3"
  },
  "language_info": {
   "codemirror_mode": {
    "name": "ipython",
    "version": 3
   },
   "file_extension": ".py",
   "mimetype": "text/x-python",
   "name": "python",
   "nbconvert_exporter": "python",
   "pygments_lexer": "ipython3",
   "version": "3.6.5"
  }
 },
 "nbformat": 4,
 "nbformat_minor": 2
}
