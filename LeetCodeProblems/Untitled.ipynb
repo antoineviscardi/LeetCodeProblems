{
 "cells": [
  {
   "cell_type": "markdown",
   "metadata": {},
   "source": [
    "# 3. Longest Substring Without Repeating Characters\n",
    "My solution to [Longest Substring Without Repeating Characters](https://leetcode.com/problems/longest-substring-without-repeating-characters/description/)."
   ]
  },
  {
   "cell_type": "markdown",
   "metadata": {},
   "source": [
    "## Solution\n",
    "I think an efficient way to solve this problem would be as follows:\n",
    "1. Start with a window of size 1 placed on the first character;\n",
    "2. Check if character on the right is already present in window;\n",
    "3. If no, increase window size to include it. If yes, shift window to the right until newly included character is not already present;\n",
    "4. Repeat step 2 and 3 until end of string is reached; and,\n",
    "5. Return final window size."
   ]
  },
  {
   "cell_type": "code",
   "execution_count": 22,
   "metadata": {},
   "outputs": [],
   "source": [
    "class Solution:\n",
    "    def lengthOfLongestSubstring(self, s):\n",
    "        \"\"\"\n",
    "        :type s: str\n",
    "        :rtype: int\n",
    "        \"\"\"\n",
    "        size = 1\n",
    "        offset = 0\n",
    "        while offset+size < len(s):\n",
    "            sub_s = s[offset:offset+size]\n",
    "            next_c = s[offset+size]\n",
    "            if next_c in sub_s:\n",
    "                do:\n",
    "                    offset += 1\n",
    "                    sub_s = s[offset:offse+size-1]\n",
    "                    new_c = s[-1]\n",
    "                \n",
    "                offset += 1\n",
    "            else:\n",
    "                size += 1    \n",
    "        return size"
   ]
  },
  {
   "cell_type": "markdown",
   "metadata": {},
   "source": [
    "## Testcases"
   ]
  },
  {
   "cell_type": "code",
   "execution_count": 24,
   "metadata": {},
   "outputs": [
    {
     "name": "stdout",
     "output_type": "stream",
     "text": [
      "6\n",
      "3\n",
      "1\n",
      "4\n"
     ]
    }
   ],
   "source": [
    "s = Solution()\n",
    "print(s.lengthOfLongestSubstring('abcdef'))     # 6\n",
    "print(s.lengthOfLongestSubstring('abcabcbb'))   # 3\n",
    "print(s.lengthOfLongestSubstring('bbbbbbbb'))   # 1\n",
    "print(s.lengthOfLongestSubstring('pwwkew'))     # 3"
   ]
  },
  {
   "cell_type": "code",
   "execution_count": 27,
   "metadata": {},
   "outputs": [
    {
     "data": {
      "text/plain": [
       "True"
      ]
     },
     "execution_count": 27,
     "metadata": {},
     "output_type": "execute_result"
    }
   ],
   "source": [
    "s = 'aabc'\n",
    "c = 'h'\n",
    "c not in s"
   ]
  }
 ],
 "metadata": {
  "kernelspec": {
   "display_name": "Python 3",
   "language": "python",
   "name": "python3"
  },
  "language_info": {
   "codemirror_mode": {
    "name": "ipython",
    "version": 3
   },
   "file_extension": ".py",
   "mimetype": "text/x-python",
   "name": "python",
   "nbconvert_exporter": "python",
   "pygments_lexer": "ipython3",
   "version": "3.6.5"
  }
 },
 "nbformat": 4,
 "nbformat_minor": 2
}
