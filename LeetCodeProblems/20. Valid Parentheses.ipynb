{
 "cells": [
  {
   "cell_type": "markdown",
   "metadata": {},
   "source": [
    "# 20. Valid Parentheses"
   ]
  },
  {
   "cell_type": "markdown",
   "metadata": {},
   "source": [
    "My solution to [Valid Parentheses](https://leetcode.com/problems/valid-parentheses/description/)."
   ]
  },
  {
   "cell_type": "markdown",
   "metadata": {},
   "source": [
    "This problem is fairly easy. I simply need to maintain a counter for each type of parentheses. When I see open parentheses, I add 1 and when I see closing parentheses I substract 1. If my counters are not at 0 at the end, I return false.\n",
    "\n",
    "However, I also not to take into account the order. I cannot close a bracket if the previous opening parentheses was a curly for example."
   ]
  },
  {
   "cell_type": "code",
   "execution_count": 21,
   "metadata": {},
   "outputs": [],
   "source": [
    "class Solution:\n",
    "    def isValid(self, s):\n",
    "        \"\"\"\n",
    "        :type s: str\n",
    "        :rtype: bool\n",
    "        \"\"\"\n",
    "        \n",
    "        normal_count = 0\n",
    "        curly_count = 0\n",
    "        square_count = 0\n",
    "        \n",
    "        previous_open = ''\n",
    "        \n",
    "        for c in s:\n",
    "            if c == '(':\n",
    "                normal_count += 1\n",
    "                previous_open += '('\n",
    "            elif c == ')':\n",
    "                try:\n",
    "                    if previous_open[-1] != '(':\n",
    "                        return False\n",
    "                except:\n",
    "                    return False\n",
    "                previous_open = previous_open[:-1]\n",
    "                normal_count -= 1\n",
    "            elif c == '{':\n",
    "                curly_count += 1\n",
    "                previous_open += '{'\n",
    "            elif c == '}':\n",
    "                try:\n",
    "                    if previous_open[-1] != '{':\n",
    "                        return False\n",
    "                except:\n",
    "                    return False\n",
    "                previous_open = previous_open[:-1]\n",
    "                curly_count -= 1\n",
    "            elif c == '[':\n",
    "                square_count += 1\n",
    "                previous_open += '['\n",
    "            elif c == ']':\n",
    "                try:\n",
    "                    if previous_open[-1] != '[':\n",
    "                        return False\n",
    "                except:\n",
    "                    return False\n",
    "                previous_open = previous_open[:-1]\n",
    "                square_count -= 1\n",
    "        \n",
    "        if normal_count != 0 or curly_count != 0 or square_count != 0:\n",
    "            return False\n",
    "        \n",
    "        return True\n",
    "            "
   ]
  },
  {
   "cell_type": "code",
   "execution_count": 22,
   "metadata": {},
   "outputs": [
    {
     "name": "stdout",
     "output_type": "stream",
     "text": [
      "True\n",
      "True\n",
      "False\n",
      "False\n",
      "True\n"
     ]
    }
   ],
   "source": [
    "solution = Solution()\n",
    "test_vector = ['()', '(){}[]', '(]', '([)]', '[{}]']\n",
    "for test in test_vector:\n",
    "    print(solution.isValid(test))"
   ]
  },
  {
   "cell_type": "code",
   "execution_count": null,
   "metadata": {},
   "outputs": [],
   "source": []
  }
 ],
 "metadata": {
  "kernelspec": {
   "display_name": "Python 3",
   "language": "python",
   "name": "python3"
  },
  "language_info": {
   "codemirror_mode": {
    "name": "ipython",
    "version": 3
   },
   "file_extension": ".py",
   "mimetype": "text/x-python",
   "name": "python",
   "nbconvert_exporter": "python",
   "pygments_lexer": "ipython3",
   "version": "3.6.5"
  }
 },
 "nbformat": 4,
 "nbformat_minor": 2
}
