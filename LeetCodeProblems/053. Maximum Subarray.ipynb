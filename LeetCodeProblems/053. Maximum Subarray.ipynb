{
 "cells": [
  {
   "cell_type": "markdown",
   "metadata": {},
   "source": [
    "# 53. Maximum Subarray"
   ]
  },
  {
   "cell_type": "markdown",
   "metadata": {},
   "source": [
    "My solution to [Maximum Subarray](https://leetcode.com/problems/maximum-subarray/)."
   ]
  },
  {
   "cell_type": "markdown",
   "metadata": {},
   "source": [
    "Key points:\n",
    "* We are given an integer array.\n",
    "* We need to find the contiguous subarray that features the largest sum.\n",
    "* We should be able to find a $O(n)$ solution."
   ]
  },
  {
   "cell_type": "code",
   "execution_count": 1,
   "metadata": {},
   "outputs": [],
   "source": [
    "class Solution:\n",
    "    def maxSubArray(self, nums):\n",
    "        \"\"\"\n",
    "        :type nums: List[int]\n",
    "        :rtype: int\n",
    "        \"\"\"\n",
    "        \n",
    "        if len(nums) == 1:\n",
    "            return nums[0]\n",
    "        \n",
    "        best = nums[0]\n",
    "        current = nums[0]\n",
    "        \n",
    "        for i in range(1, len(nums)):\n",
    "            \n",
    "            if current > 0:\n",
    "                best = max(best, current + nums[i])\n",
    "                current += nums[i]\n",
    "            \n",
    "            else:\n",
    "                current = nums[i]\n",
    "                best = max(best, current)\n",
    "        \n",
    "        return max(current, best)"
   ]
  },
  {
   "cell_type": "markdown",
   "metadata": {},
   "source": [
    "Let's run some tests"
   ]
  },
  {
   "cell_type": "code",
   "execution_count": 2,
   "metadata": {
    "scrolled": true
   },
   "outputs": [
    {
     "name": "stdout",
     "output_type": "stream",
     "text": [
      "10\n",
      "6\n",
      "6\n",
      "-1\n",
      "0\n"
     ]
    }
   ],
   "source": [
    "s = Solution()\n",
    "test_vectors = [\n",
    "    [1,2,3,4],\n",
    "    [-2,1,-3,4,-1,2,1,-5,4],\n",
    "    [4,-1,2,1],\n",
    "    [-2,-1],\n",
    "    [-1,0,-2]\n",
    "]\n",
    "\n",
    "for v in test_vectors:\n",
    "    print(s.maxSubArray(v))"
   ]
  }
 ],
 "metadata": {
  "kernelspec": {
   "display_name": "Python 3",
   "language": "python",
   "name": "python3"
  },
  "language_info": {
   "codemirror_mode": {
    "name": "ipython",
    "version": 3
   },
   "file_extension": ".py",
   "mimetype": "text/x-python",
   "name": "python",
   "nbconvert_exporter": "python",
   "pygments_lexer": "ipython3",
   "version": "3.6.5"
  }
 },
 "nbformat": 4,
 "nbformat_minor": 2
}
