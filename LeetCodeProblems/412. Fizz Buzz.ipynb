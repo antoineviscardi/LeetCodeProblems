{
 "cells": [
  {
   "cell_type": "markdown",
   "metadata": {},
   "source": [
    "# 412. Fizz Buzz"
   ]
  },
  {
   "cell_type": "markdown",
   "metadata": {},
   "source": [
    "My solution to [Fizz Buzz](https://leetcode.com/problems/fizz-buzz/)."
   ]
  },
  {
   "cell_type": "markdown",
   "metadata": {},
   "source": [
    "Key points:\n",
    "* We are given an integer `n`.\n",
    "* We want to return a list from 1 to `n`.\n",
    "* Multiples of 3 should be replaced by \"Fizz\".\n",
    "* Multiples of 5 should be replaced by \"Buzz\".\n",
    "* Multiples of 3 and 5 should be replaced by \"FizzBuzz\"."
   ]
  },
  {
   "cell_type": "markdown",
   "metadata": {},
   "source": [
    "I think a good solution would simply be to iterate from 1 to `n` checking if we are at a multiple of 3 or 5 (or both) at every step.\n",
    "\n",
    "Also, if `n` is smaller than 1, I will simply output an empty list."
   ]
  },
  {
   "cell_type": "code",
   "execution_count": 1,
   "metadata": {},
   "outputs": [],
   "source": [
    "class Solution:\n",
    "    def fizzBuzz(self, n):\n",
    "        \"\"\"\n",
    "        :type n: int\n",
    "        :rtype: List[str]\n",
    "        \"\"\"\n",
    "        \n",
    "        result = []\n",
    "        for i in range(1, n+1):\n",
    "            if i % 3 == 0:\n",
    "                if i % 5 == 0:\n",
    "                    result.append('FizzBuzz')\n",
    "                else:\n",
    "                    result.append('Fizz')\n",
    "            elif i % 5 == 0:\n",
    "                result.append('Buzz')\n",
    "            else:\n",
    "                result.append(str(i))\n",
    "        \n",
    "        return result\n",
    "                    "
   ]
  },
  {
   "cell_type": "markdown",
   "metadata": {},
   "source": [
    "Let's run some tests"
   ]
  },
  {
   "cell_type": "code",
   "execution_count": 2,
   "metadata": {
    "scrolled": true
   },
   "outputs": [
    {
     "name": "stdout",
     "output_type": "stream",
     "text": [
      "['1']\n",
      "['1', '2', 'Fizz']\n",
      "['1', '2', 'Fizz', '4', 'Buzz', 'Fizz', '7', '8', 'Fizz', 'Buzz', '11', 'Fizz', '13', '14', 'FizzBuzz']\n",
      "['1', '2', 'Fizz', '4', 'Buzz', 'Fizz', '7', '8', 'Fizz', 'Buzz', '11', 'Fizz', '13', '14', 'FizzBuzz', '16', '17', 'Fizz', '19', 'Buzz', 'Fizz', '22', '23', 'Fizz', 'Buzz']\n"
     ]
    }
   ],
   "source": [
    "s = Solution()\n",
    "test_vectors = [\n",
    "    1, 3, 15, 25\n",
    "]\n",
    "\n",
    "for v in test_vectors:\n",
    "    print(s.fizzBuzz(v))"
   ]
  }
 ],
 "metadata": {
  "kernelspec": {
   "display_name": "Python 3",
   "language": "python",
   "name": "python3"
  },
  "language_info": {
   "codemirror_mode": {
    "name": "ipython",
    "version": 3
   },
   "file_extension": ".py",
   "mimetype": "text/x-python",
   "name": "python",
   "nbconvert_exporter": "python",
   "pygments_lexer": "ipython3",
   "version": "3.6.5"
  }
 },
 "nbformat": 4,
 "nbformat_minor": 2
}
