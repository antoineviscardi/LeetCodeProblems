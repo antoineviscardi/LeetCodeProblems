{
 "cells": [
  {
   "cell_type": "markdown",
   "metadata": {},
   "source": [
    "# 7. Reverse Integer\n",
    "This is my solution to [Reverse Integer](https://leetcode.com/problems/reverse-integer/description/)."
   ]
  },
  {
   "cell_type": "markdown",
   "metadata": {},
   "source": [
    "## Solution\n",
    "The first simple approach I can think of is to simply manipulate the string representation of the number. A string can easily be inverted and striped from leading zeros. The minus sign can be moved easily as well."
   ]
  },
  {
   "cell_type": "code",
   "execution_count": 26,
   "metadata": {},
   "outputs": [],
   "source": [
    "class Solution:\n",
    "    def reverse(self, x):\n",
    "        \"\"\"\n",
    "        :type x: int\n",
    "        :rtype: int\n",
    "        \"\"\" \n",
    "        if x == 0:\n",
    "            return 0\n",
    "        \n",
    "        r = str(x)[::-1].lstrip('0')\n",
    "        if r[-1] == '-':\n",
    "            r = '-' + r[:-1]\n",
    "        \n",
    "        r = int(r)\n",
    "        if r < -2147483648 or r > 2147483647:\n",
    "            return 0\n",
    "        return r"
   ]
  },
  {
   "cell_type": "markdown",
   "metadata": {},
   "source": [
    "## Testcases"
   ]
  },
  {
   "cell_type": "code",
   "execution_count": 28,
   "metadata": {},
   "outputs": [
    {
     "name": "stdout",
     "output_type": "stream",
     "text": [
      "0\n",
      "321\n",
      "21\n",
      "-24\n"
     ]
    }
   ],
   "source": [
    "s = Solution()\n",
    "print(s.reverse(0))   # 6\n",
    "print(s.reverse(123)) # 321\n",
    "print(s.reverse(120)) # 21\n",
    "print(s.reverse(-42)) # -24"
   ]
  },
  {
   "cell_type": "code",
   "execution_count": null,
   "metadata": {},
   "outputs": [],
   "source": []
  }
 ],
 "metadata": {
  "kernelspec": {
   "display_name": "Python 3",
   "language": "python",
   "name": "python3"
  },
  "language_info": {
   "codemirror_mode": {
    "name": "ipython",
    "version": 3
   },
   "file_extension": ".py",
   "mimetype": "text/x-python",
   "name": "python",
   "nbconvert_exporter": "python",
   "pygments_lexer": "ipython3",
   "version": "3.6.5"
  }
 },
 "nbformat": 4,
 "nbformat_minor": 2
}
